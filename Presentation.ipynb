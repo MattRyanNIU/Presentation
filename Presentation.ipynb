{
 "cells": [
  {
   "cell_type": "markdown",
   "metadata": {},
   "source": [
    "---\n",
    "# Fall 2020 MATH 662 Presentation"
   ]
  },
  {
   "cell_type": "markdown",
   "metadata": {},
   "source": [
    "---\n",
    "\n",
    "Name: **Matt Ryan**\n",
    "\n",
    "Acknowledgements:\n",
    "\n",
    "[Fundamentals of Numerical Computation](https://fncbook.github.io/fnc/frontmatter.html) by Tobin A. Driscoll and Richard J. Braun\n",
    "\n",
    "[Newton's law of universal gravitation](https://en.wikipedia.org/wiki/Newton%27s_law_of_universal_gravitation) From Wikipedia, the free encyclopedia\n",
    "\n",
    "[Newton's laws of motion](https://en.wikipedia.org/wiki/Newton%27s_laws_of_motion) From Wikipedia, the free encyclopedia"
   ]
  },
  {
   "cell_type": "markdown",
   "metadata": {},
   "source": [
    "---\n",
    "## Topic: Runge-Kutta RK4 Method Applied to the Three-Body Problem\n",
    "---\n",
    "**What will be covered:**\n",
    "\n",
    "- Euler's method\n",
    "- Two-body problem - planet orbiting star\n",
    "- Two-body problem - binary star system\n",
    "- Runge-Kutta theory\n",
    "- RK4 method\n",
    "- RK4 applied to two-body problem\n",
    "- RK4 applied to three-body problem in two dimensions\n",
    "\n",
    "By the end of this presentation you should be able to use the RK4 method to solve a system of second order ordinary differential equations."
   ]
  },
  {
   "cell_type": "markdown",
   "metadata": {},
   "source": [
    "## Euler's Method"
   ]
  },
  {
   "cell_type": "markdown",
   "metadata": {},
   "source": [
    "Euler's method is a simple way of approximating first order differential equations with initial conditions.  A first order ODE is defined as\n",
    "\n",
    "$$u'(t) = f(t, u(t))$$\n",
    "$$u(a) = u_0$$\n",
    "\n",
    "for $a \\le t \\le b.$  By plugging the initial condition into $u'(a) = f(a, u(a))$, we know the slope of $u(t)$ at $t = a$.  We can use this to approximate $u(a+h)$, where h is called the step size:\n",
    "\n",
    "$$u(a+h) = u_0 + h f(a, u(a)).$$\n",
    "\n",
    "We now have an approximation for $u(a+h)$. We can repeat the process to get successive approximations for $u(t)$:\n",
    "\n",
    "$$u(t_{i+1}) = u(t_i) + hf(t_i, u(t_i))$$\n",
    "\n",
    "where $t_i = a + hi$, $h = \\frac{b-a}{n}$, and $i = 0,\\dots,n$."
   ]
  },
  {
   "cell_type": "markdown",
   "metadata": {},
   "source": [
    "### Example: Two-body problem - planet orbiting star"
   ]
  },
  {
   "cell_type": "markdown",
   "metadata": {},
   "source": [
    "---\n",
    "We can model a planet orbiting a star as a second order ODE using laws of physics described by Isaac Newton.\n",
    "\n",
    "\n",
    "Newton's Law of Universal Gravitation:\n",
    "$$F = G\\frac{m_1m_2}{r^2}.$$\n",
    "\n",
    "Newton's Second Law of Motion:\n",
    "$$F = ma$$\n",
    "\n",
    "Newton's Third Law of Motion:\n",
    "$$F_{12} = -F_{21}$$\n",
    "\n",
    "- $F$ is the force applied to one object by the other object.\n",
    "\n",
    "- $G$ is the gravitational constant.\n",
    "\n",
    "- $m_1$ and $m_2$ are the respective masses of two objects.\n",
    "\n",
    "- $r$ is the distance between the two objects.\n",
    "\n",
    "We want to vectorize the law of gravitation so direction matters.  Let's let $r$ be a two dimensional vector in the $xy$-plane and $\\hat{r}$ be the directional unit vector.  Then the force on object 1 from object 2 is defined as\n",
    "\n",
    "$$F_{12} = G\\frac{m_1m_2}{\\left|r\\right|^2}\\hat{r}$$\n",
    "\n",
    "We can rewrite the unit vector as $\\hat{r} = \\frac{r}{|r|}$, where $|r|$ is the Euclidean norm of $r.$  Then\n",
    "\n",
    "$$F_{12} = G\\frac{m_1m_2}{\\left|r\\right|^3}r$$\n",
    "\n",
    "and from the third law of motion\n",
    "\n",
    "$$F_{21} = -G\\frac{m_1m_2}{\\left|r\\right|^3}r.$$\n",
    "\n",
    "We currently have equations for relating the positions of the objects to the force applied to each object.  However, we would like to rewrite these equations in terms of acceleration, which is the second derivative of position.  To do so, we simply divide the force by the corresponding mass.  Therefore\n",
    "\n",
    "$$a_1 = \\frac{F_{12}}{m_1} = G\\frac{m_2}{\\left|r\\right|^3}r$$\n",
    "\n",
    "and\n",
    "\n",
    "$$a_2 = \\frac{F_{21}}{m_2} = -G\\frac{m_1}{\\left|r\\right|^3}r.$$\n",
    "\n",
    "For the case of a planet orbiting a star, the mass of the planet is usually so small in comparison to the mass of the star that we can assume there is no force applied to the star by the planet.  This is not necessarily always true, but for our purposes we will accept this.  We can fix the star at the coordinate $(0,0)$ and that way $r_2$ = $r$.  So our second order ODE for the orbit of the planet becomes\n",
    "\n",
    "$$\\ddot{r} = -G\\frac{m_1}{\\left|r\\right|^3}r.$$\n",
    "\n",
    "But, didn't I say that Euler's method is used to approximate FIRST order ODEs?  Fear not - any second order ODE can be rewritten as a first order system.  Remember that velocity $\\dot{r} = v$ and $\\dot{v} = a, $ where $v$ is velocity and $a$ is acceleration.  The second order system of the motion of the planet is\n",
    "\n",
    "$$\\dot{r} = v$$\n",
    "$$\\dot{v} = -G\\frac{m_1}{\\left|r\\right|^3}r.$$\n",
    "\n",
    "We are now ready to apply Euler's method!"
   ]
  },
  {
   "cell_type": "code",
   "execution_count": null,
   "metadata": {},
   "outputs": [],
   "source": [
    "import LinearAlgebra: norm\n",
    "import Plots: plot, plot!, plot3d, plot3d!"
   ]
  },
  {
   "cell_type": "code",
   "execution_count": null,
   "metadata": {},
   "outputs": [],
   "source": [
    "# Euler two-body - planetary orbit\n",
    "\n",
    "G = 10  # gravitational constant\n",
    "m = 10  # mass of star\n",
    "\n",
    "h = .001     # step size\n",
    "n = 500000  # iterations\n",
    "\n",
    "r = [15, 0]  # initial position\n",
    "v = [0, 3]  # initial velocity\n",
    "\n",
    "rr = zeros(2,n)  # solution matrix\n",
    "\n",
    "rr[:,1] = r  # save initial condition\n",
    "\n",
    "for i=2:n\n",
    "    a = -G*m*r/norm(r)^3  # calculate acceleration\n",
    "    r = r + h*v  # update position using Euler formula\n",
    "    v = v + h*a  # update velocity using Euler formula\n",
    "    rr[:,i] = r  # save solution\n",
    "end"
   ]
  },
  {
   "cell_type": "code",
   "execution_count": null,
   "metadata": {},
   "outputs": [],
   "source": [
    "plot(rr[1,:], rr[2,:], label=\"Planet orbit\")"
   ]
  },
  {
   "cell_type": "code",
   "execution_count": null,
   "metadata": {},
   "outputs": [],
   "source": [
    "tt = [h*i for i=1:n]\n",
    "plot3d(tt, rr[1,:], rr[2,:], label=\"Planet orbit\")"
   ]
  },
  {
   "cell_type": "markdown",
   "metadata": {},
   "source": [
    "---\n",
    "### Example: Two-body problem - binary star system"
   ]
  },
  {
   "cell_type": "markdown",
   "metadata": {},
   "source": [
    "---\n",
    "\n",
    "The mass of object 2 is now large enough that the force applied to object 1 is no longer negligible, so we cannot assume that either body is stationary.\n",
    "\n",
    "Taking this into consideration, all we need to do is include our second order equation for object 1:\n",
    "\n",
    "$$\\ddot{r_1} = G\\frac{m_2}{\\left|r\\right|^3}r$$\n",
    "\n",
    "$$\\ddot{r_2} = -G\\frac{m_1}{\\left|r\\right|^3}r.$$\n",
    "\n",
    "The result is a first order system of 4 equations:\n",
    "\n",
    "$$\\dot{r_1} = v_1$$\n",
    "\n",
    "$$\\dot{r_2} = v_2$$\n",
    "\n",
    "$$\\dot{v_1} = G\\frac{m_2}{\\left|r\\right|^3}r$$\n",
    "\n",
    "$$\\dot{v_2} = -G\\frac{m_2}{\\left|r\\right|^3}r$$"
   ]
  },
  {
   "cell_type": "code",
   "execution_count": null,
   "metadata": {},
   "outputs": [],
   "source": [
    "import LinearAlgebra: norm\n",
    "import Plots: plot, plot!, plot3d, plot3d!\n",
    "\n",
    "# Euler two-body - binary star system\n",
    "G = 10\n",
    "m1 = m2 = 10\n",
    "r1 = [-5,0]  # posotion of object 1\n",
    "r2 = [5,0]   # position of object 2\n",
    "v1 = [0,-2]  # velocity of object 1\n",
    "v2 = [0,2]   # velocity of object 2\n",
    "\n",
    "h = .0005\n",
    "n = 200000\n",
    "\n",
    "rr1 = zeros(2,n)\n",
    "rr2 = zeros(2,n)\n",
    "\n",
    "rr1[:,1] = r1\n",
    "rr2[:,1] = r2\n",
    "\n",
    "for i=2:n\n",
    "    r = r2 - r1\n",
    "    F = G*m1*m2*r/norm(r)^3\n",
    "    a1 = F / m1\n",
    "    a2 = -F / m2\n",
    "\n",
    "    # update position\n",
    "    r1 += h*v1\n",
    "    r2 += h*v2\n",
    "\n",
    "    # update velocity\n",
    "    v1 += h*a1\n",
    "    v2 += h*a2\n",
    "\n",
    "    rr1[:,i] = r1\n",
    "    rr2[:,i] = r2\n",
    "end"
   ]
  },
  {
   "cell_type": "code",
   "execution_count": null,
   "metadata": {},
   "outputs": [],
   "source": [
    "plot(rr1[1,:], rr1[2,:])\n",
    "plot!(rr2[1,:], rr2[2,:],color=2)"
   ]
  },
  {
   "cell_type": "code",
   "execution_count": null,
   "metadata": {},
   "outputs": [],
   "source": [
    "tt = [h*i for i=1:n]\n",
    "plot3d(tt, rr1[1,:], rr1[2,:])\n",
    "plot3d!(tt, rr2[1,:], rr2[2,:],color=2)"
   ]
  },
  {
   "cell_type": "markdown",
   "metadata": {},
   "source": [
    "---\n",
    "## Runge-Kutta Methods"
   ]
  },
  {
   "cell_type": "markdown",
   "metadata": {},
   "source": [
    "Clearly we need a better approximation for our solution to these problems.  While the Euler method works for very small values of h, the error grows too quickly to be practical.  Let's look at the Taylor series expansion of the solution to $u' = f(t, u)$:\n",
    "\n",
    "$$\\hat{u}(t_{i+1}) = \\hat{u}(t_i) + h\\hat{u}'(t_i) + \\frac{1}{2}h^2\\hat{u}''(t_i) + O(h^3).$$\n",
    "\n",
    "Notice that the first two terms of this equation gives us Euler's method!  Euler's method is a first order Runge-Kutta method.  The error for the Euler method is in $O(h^2)$.  We would like to find an approximation with a smaller error term.  This means we need a way to compute $\\hat{u}''$.  We can apply the multidimensional chain rule to get the following:\n",
    "\n",
    "$$\\hat{u}'' = f' = \\frac{df}{dt} = \\frac{\\partial f}{\\partial t} + \\frac{\\partial f}{\\partial u}\\frac{du}{dt} = f_t + f_uf.$$\n",
    "\n",
    "By substituting this into the previous equation, we get\n",
    "\n",
    "$$\\hat{u}(t_{i+1}) = \\hat{u}(t_i) + h\\left[f(t_i,\\hat{u}(t_i)) + \\frac{h}{2}f_t(t_i,\\hat{u}(t_i)) + \\frac{h}{2}f(t_i,\\hat{u}(t_i))f_u(t_i,\\hat{u}(t_i))\\right] + O(h^3). \\quad (6.4.2)$$\n",
    "\n",
    "We don't want to actually compute these partial derivatives.  We also know that\n",
    "\n",
    "$$f(t_i+\\alpha,\\hat{u}(t_i) + \\beta) = f(t_i,\\hat{u}(t_i)) + \\alpha f_t(t_i,\\hat{u}(t_i)) + \\beta f_u(t_i,\\hat{u}(t_i)) + O(\\alpha^2+|\\alpha\\beta| + \\beta^2). \\quad (6.4.3)$$\n",
    "\n",
    "By equating this to the term in brackets, we find that $\\alpha = \\frac{h}{2}$ and $\\beta = \\frac{h}{2}f(t_i,\\hat{u}(t_i))$.  We can substitute the left hand side of 6.4.3 into 6.4.2 using these values for $\\alpha$ and $\\beta$ to give us our new second order RK method:\n",
    "\n",
    "$$u_{i+1} = u_i + hf(t_i+\\frac{1}{2}h,u_i+\\frac{1}{2}hf(t_i,u_i)).$$\n",
    "\n",
    "This is called the improved Euler method, and is a second order RK method.  Notice that f is computed twice in this method.  We can break it up into two stages, $k_1$ and $k_2$, where\n",
    "\n",
    "$$k_1 = hf(t_i,u_i),$$\n",
    "\n",
    "$$k_2 = hf(t_i+\\frac{1}{2}h,u_i+\\frac{1}{2}k_1),$$\n",
    "and\n",
    "$$u_{i+1} = u_i + k_2.$$\n",
    "\n",
    "The idea here is that we use the slope from the first stage to take a half time step.  We then evaluate the slope again at at this half step, and use the new slope to approximate the solution over the whole step.\n",
    "\n",
    "This second order approximation is definitely an improvement over the first order Euler method, but we would like to use a fourth order method with an error of $O(h^5)$.  This method is called RK4, and is one of the most well known formulas for solving numerical differential equations.\n",
    "\n",
    "To do this we will need an approximation of $\\hat{u}'''$ and $\\hat{u}^{(4)}$.  I will not derive this directly but the derivation is the same as the derivation for the Improved Euler, just using more terms.  The complexity of the algebra increases drastically, but RK methods of much higher orders have been found.\n",
    "\n",
    "As the Improved Euler method has two stages, RK4 has four:\n",
    "\n",
    "$$k_1 = hf(t_i,u_i)$$\n",
    "\n",
    "$$k_2 = hf(t_i+\\frac{h}{2},u_i+\\frac{1}{2}k_1)$$\n",
    "\n",
    "$$k_3 = hf(t_i+\\frac{h}{2},u_i+\\frac{1}{2}k_2)$$\n",
    "\n",
    "$$k_4 = hf(t_i+h,u_i+k_3)$$\n",
    "and\n",
    "$$u_{i+1} = u_i + \\frac{1}{6}k_1 + \\frac{1}{3}k_2 + \\frac{1}{3}k_3 + \\frac{1}{6}k_4.$$\n",
    "\n",
    "The coefficients act as a sort of weighted average of the four slopes, and are not at all random.  They come directly from the derivation.\n",
    "\n",
    "Here is an image that describes what is really going on here:"
   ]
  },
  {
   "cell_type": "markdown",
   "metadata": {},
   "source": [
    "<img src=\"files/Runge-Kutta_slopes.svg\">\n",
    "\n",
    "By HilberTraum - Own work, CC BY-SA 4.0, https://commons.wikimedia.org/w/index.php?curid=64366870"
   ]
  },
  {
   "cell_type": "markdown",
   "metadata": {},
   "source": [
    "---\n",
    "### Example: Two-body problem using RK4 - binary star system\n",
    "---"
   ]
  },
  {
   "cell_type": "code",
   "execution_count": null,
   "metadata": {},
   "outputs": [],
   "source": [
    "G = 10\n",
    "m1 = m2 = 10\n",
    "\n",
    "# one iteration of rk4\n",
    "function rk4(f, u, h)\n",
    "    k1 = h*f(u)\n",
    "    k2 = h*f(u + k1/2)\n",
    "    k3 = h*f(u + k2/2)\n",
    "    k4 = h*f(u + k3)\n",
    "    return u + k1/6 + k2/3 + k3/3 + k4/6\n",
    "end\n",
    "\n",
    "\n",
    "# acceleration\n",
    "function a(r1, r2)\n",
    "    r = r2 - r1\n",
    "    r_norm = norm(r)\n",
    "    F = G*m1*m2*r/r_norm^3\n",
    "    a1 = F / m1\n",
    "    a2 = -F / m2\n",
    "    return a1, a2\n",
    "end\n",
    "\n",
    "\n",
    "function f(u)\n",
    "    r1, r2, v1, v2 = u\n",
    "    a1, a2 = a(r1, r2)\n",
    "    return [v1, v2, a1, a2]\n",
    "end"
   ]
  },
  {
   "cell_type": "code",
   "execution_count": null,
   "metadata": {},
   "outputs": [],
   "source": [
    "# two body rk4\n",
    "import LinearAlgebra: norm\n",
    "import Plots: plot, plot!, plot3d, plot3d!\n",
    "\n",
    "# initial conditions\n",
    "r1 = [-5,0]\n",
    "r2 = [5,0]\n",
    "v1 = [0,-2]\n",
    "v2 = [0,2]\n",
    "\n",
    "h = .1    # step size\n",
    "n = 5000  # steps\n",
    "\n",
    "# solution matrices\n",
    "rr1 = zeros(2,n)\n",
    "rr2 = zeros(2,n)\n",
    "\n",
    "rr1[:,1] = r1\n",
    "rr2[:,1] = r2\n",
    "\n",
    "u = [r1, r2, v1, v2]\n",
    "\n",
    "for i=2:n\n",
    "    u = rk4(f, u, h)\n",
    "    rr1[:,i] = u[1]\n",
    "    rr2[:,i] = u[2]\n",
    "end"
   ]
  },
  {
   "cell_type": "code",
   "execution_count": null,
   "metadata": {},
   "outputs": [],
   "source": [
    "plot(rr1[1,:], rr1[2,:])\n",
    "plot!(rr2[1,:], rr2[2,:], color=2)"
   ]
  },
  {
   "cell_type": "code",
   "execution_count": null,
   "metadata": {},
   "outputs": [],
   "source": [
    "tt = [h*i for i=1:n]\n",
    "plot3d(tt, rr1[1,:], rr1[2,:])\n",
    "plot3d!(tt, rr2[1,:], rr2[2,:], color=2)"
   ]
  },
  {
   "cell_type": "code",
   "execution_count": null,
   "metadata": {},
   "outputs": [],
   "source": [
    "# three body rk4\n",
    "import LinearAlgebra: norm\n",
    "import Plots: plot, plot!, plot3d, plot3d!\n",
    "\n",
    "G = 10\n",
    "m1 = m2 = 10\n",
    "\n",
    "function rk4(f, t, u, h)\n",
    "    k1 = h*f(t, u)\n",
    "    k2 = h*f(t + h/2, u + k1/2)\n",
    "    k3 = h*f(t + h/2, u + k2/2)\n",
    "    k4 = h*f(t + h, u + k3)\n",
    "    return u + k1/6 + k2/3 + k3/3 + k4/6\n",
    "end\n",
    "\n",
    "function a(r, m)\n",
    "    return G*m*r/norm(r)^3\n",
    "end\n",
    "\n",
    "function f(t, u)\n",
    "    r1, r2, r3, v1, v2, v3 = u\n",
    "    a1 = a(r2-r1, m2)\n",
    "    a2 = a(r1-r2, m1)\n",
    "    a3 = a(r1-r3, m1) + a(r2-r3, m2)\n",
    "    return [v1, v2, v3, a1, a2, a3]\n",
    "end\n",
    "\n",
    "h = .1\n",
    "n = 5000\n",
    "t = 0\n",
    "\n",
    "# initial conditions\n",
    "r1 = [-5, 0]\n",
    "r2 = [5, 0]\n",
    "r3 = [50, 0]\n",
    "v1 = [0, -2]\n",
    "v2 = [0, 2]\n",
    "v3 = [0, 2]\n",
    "\n",
    "u = [r1, r2, r3, v1, v2, v3]\n",
    "\n",
    "# solution matrices\n",
    "rr1 = [r1 zeros(2,n)]\n",
    "rr2 = [r2 zeros(2,n)]\n",
    "rr3 = [r3 zeros(2,n)]\n",
    "\n",
    "for i=1:n\n",
    "    u = rk4(f, t, u, h)\n",
    "    t += h\n",
    "    rr1[:,i+1] = u[1]\n",
    "    rr2[:,i+1] = u[2]\n",
    "    rr3[:,i+1] = u[3]\n",
    "end"
   ]
  },
  {
   "cell_type": "code",
   "execution_count": null,
   "metadata": {},
   "outputs": [],
   "source": [
    "plot(rr1[1,:], rr1[2,:], label=\"Star 1\", legend=:topright, xlabel=\"x\", ylabel=\"y\")\n",
    "plot!(rr2[1,:], rr2[2,:], label=\"Star 2\", color=2)\n",
    "plot!(rr3[1,:], rr3[2,:], label=\"Planet\", color=3)"
   ]
  },
  {
   "cell_type": "code",
   "execution_count": null,
   "metadata": {},
   "outputs": [],
   "source": [
    "tt = [i*h for i=0:n]\n",
    "plot3d(tt, rr1[1,:], rr1[2,:], label=\"Star 1\", xlabel=\"Time\", ylabel=\"x\", zlabel=\"y\")\n",
    "plot3d!(tt, rr2[1,:], rr2[2,:], label=\"Star 2\", color=2)\n",
    "plot3d!(tt, rr3[1,:], rr3[2,:], label=\"Planet\", color=3)"
   ]
  },
  {
   "cell_type": "code",
   "execution_count": null,
   "metadata": {},
   "outputs": [],
   "source": []
  }
 ],
 "metadata": {
  "kernelspec": {
   "display_name": "Julia 1.5.1",
   "language": "julia",
   "name": "julia-1.5"
  },
  "language_info": {
   "file_extension": ".jl",
   "mimetype": "application/julia",
   "name": "julia",
   "version": "1.5.1"
  }
 },
 "nbformat": 4,
 "nbformat_minor": 4
}
